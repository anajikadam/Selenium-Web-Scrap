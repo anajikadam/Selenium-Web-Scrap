{
 "cells": [
  {
   "cell_type": "code",
   "execution_count": 10,
   "metadata": {},
   "outputs": [],
   "source": [
    "from selenium import webdriver\n",
    "import time\n",
    "\n",
    "Chrome_path = \"C:/Tools/chromedriver.exe\"\n"
   ]
  },
  {
   "cell_type": "code",
   "execution_count": 2,
   "metadata": {},
   "outputs": [],
   "source": [
    "driver = webdriver.Chrome(executable_path = Chrome_path)\n",
    "url_link = 'https://www.moh.gov.bh/HealthInfo/DrugDetail/119?Desc=1?lang=en'\n",
    "\n",
    "driver.get(url_link)\n",
    "driver.save_screenshot('screenshot.png')\n",
    "driver.quit()\n",
    "# review_list = driver.find_elements_by_class_name(\"a-row\")\n",
    "# data = driver.find_elements_by_xpath(\"\"\"/html/body/div[1]/div/main/div[4]/div/div[3]/div/div/section/div[2]/div/div[2]/div/div[1]/div/div[2]\"\"\")\n",
    "# data = driver.find_elements_by_css_selector('div.user-title ml-0_5 ml-md-0_5 size-16 font-weight-medium d-inline')\n",
    "# print(review_list)\n",
    "# print(len(review_list))"
   ]
  },
  {
   "cell_type": "code",
   "execution_count": 14,
   "metadata": {},
   "outputs": [],
   "source": [
    "from PIL import Image\n",
    "from Screenshot import Screenshot_Clipping\n",
    "ss = Screenshot_Clipping.Screenshot()\n",
    "\n",
    "driver = webdriver.Chrome(executable_path = Chrome_path)\n",
    "url_link = 'https://www.moh.gov.bh/HealthInfo/DrugDetail/119?Desc=1?lang=en'\n",
    "\n",
    "driver.get(url_link)\n",
    "driver.find_element_by_xpath('//*[@id=\"topmenuitem\"]/a[6]').click()\n",
    "\n",
    "image = ss.full_Screenshot(driver, save_path=r'.' , image_name='name1.png')\n",
    "screen = Image.open(image)\n",
    "screen.show()\n",
    "\n",
    "\n",
    "time.sleep(4)\n",
    "driver.quit()"
   ]
  },
  {
   "cell_type": "code",
   "execution_count": 20,
   "metadata": {},
   "outputs": [],
   "source": [
    "driver = webdriver.Chrome(executable_path = Chrome_path)\n",
    "url_link = 'https://www.moh.gov.bh/HealthInfo/DrugDetail/119?Desc=1?lang=en'\n",
    "\n",
    "driver.get(url_link)\n",
    "driver.find_element_by_xpath('//*[@id=\"topmenuitem\"]/a[6]').click()"
   ]
  },
  {
   "cell_type": "code",
   "execution_count": 19,
   "metadata": {},
   "outputs": [
    {
     "name": "stdout",
     "output_type": "stream",
     "text": [
      "N-ACEYCYSTEINE (NAC)\n",
      "MUCOLYTICS\n",
      "Respiratory System\n",
      "\n",
      "Acetylcysteine exerts an intense mucolytic action on mucous and mucopurulent secretions, by depolymerizing the mucoproteic complexes and the nucleic acids which confer viscosity to the vitreous and purulent component of the sputum and of other secretions. It exerts a direct antioxidant action.\n",
      "Indications: Reduction of viscosity of mucous secretions of the respiratory tract, antidote in for paracetamol poisoning.\n",
      "Cautions: patients with asthma, liver cirrhosis and peptic ulcer disease. advised to drink plenty of water per to prevent cysteine renal stones which are rare but can occur.\n",
      "Contra-indications: Hypersensitivity.\n",
      "Side Effects: are considered rare but may include allergic reactions (pruritus, urticaria, rash, angioedema), dyspnea, bronchospasm, stomatitis, abdominal pain, nausea, vomiting and diarrhoea.\n",
      "Dose: Above 6 years of age or adults. 600mg 1 to 2 times a day preferably in the evening.\n",
      "ACC long 600mg Effervescent Tablets\n"
     ]
    }
   ],
   "source": [
    "a,b,c,d,e = [],[],[],[],[]\n",
    "driver = webdriver.Chrome(executable_path = Chrome_path)\n",
    "url_link = 'https://www.moh.gov.bh/HealthInfo/DrugDetail/119?Desc=1?lang=en'\n",
    "\n",
    "driver.get(url_link)\n",
    "driver.find_element_by_xpath('//*[@id=\"topmenuitem\"]/a[6]').click()\n",
    "l=driver.find_elements_by_xpath ('//*[@id=\"renderbody\"]/table')\n",
    "\n",
    "a = driver.find_elements_by_xpath('//*[@id=\"myTable\"]/tr[2]/td[2]')\n",
    "for i in a :\n",
    "    a.append(i.text)\n",
    "#     print(i.text)\n",
    "b = driver.find_elements_by_xpath('//*[@id=\"myTable\"]/tr[3]/td[2]')\n",
    "for i in b :\n",
    "    b.append(i.text)\n",
    "#     print(i.text)\n",
    "c = driver.find_elements_by_xpath('//*[@id=\"myTable\"]/tr[4]/td[2]')\n",
    "for i in c :\n",
    "    c.append(i.text)\n",
    "#     print(i.text)\n",
    "d = driver.find_elements_by_xpath('//*[@id=\"body\"]')\n",
    "for i in d :\n",
    "    d.append(i.text)\n",
    "#     print(i.text)\n",
    "e = driver.find_elements_by_xpath('//*[@id=\"myTable\"]/tr[6]/td[2]/ul/li')\n",
    "for i in e :\n",
    "    e.append(i.text)\n",
    "#     print(i.text)\n",
    "# to traverse through the list of headers\n",
    "# for i in l :\n",
    "#     # to get the header with text method\n",
    "#     print (i.text)\n",
    "#to close the browser\n",
    "driver.close ()\n",
    "time.sleep(4)\n",
    "driver.quit()"
   ]
  },
  {
   "cell_type": "code",
   "execution_count": null,
   "metadata": {},
   "outputs": [],
   "source": []
  },
  {
   "cell_type": "code",
   "execution_count": null,
   "metadata": {},
   "outputs": [],
   "source": []
  },
  {
   "cell_type": "code",
   "execution_count": 8,
   "metadata": {},
   "outputs": [],
   "source": [
    "# Taking a Full Page Screenshot\n",
    "# Use the code below to get the full page screenshot using Selenium and Python.\n",
    "from selenium import webdriver\n",
    "from PIL import Image\n",
    "from Screenshot import Screenshot_Clipping\n",
    "ss = Screenshot_Clipping.Screenshot()\n",
    "# driver = webdriver.Chrome(executable_path=r'C:\\Users\\waseem k\\Desktop\\chromedriver.exe')\n",
    "driver = webdriver.Chrome(executable_path = Chrome_path)\n",
    "url = \"https://www.flipkart.com/?s_kwcid=AL!739!3!461576250419!e!!g!!flipkart&&semcmpid=sem_8024046704_brand_eta_nc_goog&gclid=EAIaIQobChMIkO2X0aKU8wIVVXRgCh0vmg5GEAAYASAAEgJowvD_BwE&gclsrc=aw.ds\"\n",
    "\n",
    "driver.get(url)\n",
    "image = ss.full_Screenshot(driver, save_path=r'.' , image_name='name.png')\n",
    "\n",
    "screen = Image.open(image)\n",
    "screen.show()"
   ]
  },
  {
   "cell_type": "code",
   "execution_count": 9,
   "metadata": {},
   "outputs": [
    {
     "name": "stdout",
     "output_type": "stream",
     "text": [
      "E:\\anaji Python\\Projects\\WebScrapping\\Myimage.png\n"
     ]
    }
   ],
   "source": [
    "url = \"https://github.com/PyWizards/Selenium_Screenshot/blob/master/test/test_chrome_driver.py\"\n",
    "from Screenshot import Screenshot_Clipping\n",
    "from selenium import webdriver\n",
    "\n",
    "\n",
    "\n",
    "ob=Screenshot_Clipping.Screenshot()\n",
    "# driver = webdriver.Chrome()\n",
    "driver = webdriver.Chrome(executable_path = Chrome_path)\n",
    "# url = \"https://github.com/sam4u3/Selenium_Screenshot/tree/master/test\"?\n",
    "driver.get(url)\n",
    "img_url=ob.full_Screenshot(driver, save_path=r'.', image_name='Myimage.png')\n",
    "print(img_url)\n",
    "driver.close()\n",
    "\n",
    "driver.quit()"
   ]
  },
  {
   "cell_type": "code",
   "execution_count": 60,
   "metadata": {},
   "outputs": [
    {
     "name": "stderr",
     "output_type": "stream",
     "text": [
      "<ipython-input-60-652ce8996d3a>:11: DeprecationWarning: use options instead of chrome_options\n",
      "  driver = webdriver.Chrome(executable_path = Chrome_path, chrome_options=options)\n"
     ]
    }
   ],
   "source": [
    "from selenium import webdriver\n",
    "from selenium.webdriver.chrome.options import Options\n",
    "\n",
    "options = Options()\n",
    "options.add_experimental_option(\"prefs\", {\n",
    "  \"download.default_directory\": r\"E:\\anaji Python\\Projects\\WebScrapping\",\n",
    "  \"download.prompt_for_download\": False,\n",
    "  \"download.directory_upgrade\": True,\n",
    "  \"safebrowsing.enabled\": True\n",
    "})\n",
    "driver = webdriver.Chrome(executable_path = Chrome_path, chrome_options=options)\n",
    "driver.get(\"https://google.com\")\n",
    "driver.execute_script('window.print();')"
   ]
  },
  {
   "cell_type": "code",
   "execution_count": 63,
   "metadata": {},
   "outputs": [
    {
     "name": "stderr",
     "output_type": "stream",
     "text": [
      "<ipython-input-63-614a2ab42681>:4: DeprecationWarning: use options instead of chrome_options\n",
      "  driver = webdriver.Chrome(executable_path = Chrome_path, chrome_options=options)\n"
     ]
    }
   ],
   "source": [
    "options = webdriver.ChromeOptions()\n",
    "options.add_argument('--kiosk-printing')\n",
    "\n",
    "driver = webdriver.Chrome(executable_path = Chrome_path, chrome_options=options)\n",
    "driver.get(\"https://google.com\")\n",
    "driver.execute_script('window.print();')\n",
    "# import keyboard, time\n",
    "\n",
    "# keyboard.press(['s'])\n",
    "# time.sleep(1)\n",
    "# keyboard.press('enter')\n"
   ]
  },
  {
   "cell_type": "code",
   "execution_count": 70,
   "metadata": {},
   "outputs": [
    {
     "name": "stderr",
     "output_type": "stream",
     "text": [
      "<ipython-input-70-62241cdb38f0>:8: DeprecationWarning: use options instead of chrome_options\n",
      "  driver =  webdriver.Chrome(executable_path = Chrome_path, chrome_options=o)\n"
     ]
    }
   ],
   "source": [
    "from selenium import webdriver\n",
    "from selenium.webdriver.chrome.options import Options\n",
    "#object of Options\n",
    "o =webdriver.ChromeOptions()\n",
    "#path of downloaded pdf\n",
    "o.add_experimental_option(\"prefs\",{\"download.default_directory\": \"Downloads\"})\n",
    "#pass Option to driver\n",
    "driver =  webdriver.Chrome(executable_path = Chrome_path, chrome_options=o)\n",
    "#implicit wait\n",
    "driver.implicitly_wait(0.5)\n",
    "#url launch\n",
    "driver.get(\"http://demo.automationtesting.in/FileDownload.html\")\n",
    "#maximize browser\n",
    "driver.maximize_window()\n",
    "#identify elements\n",
    "l = driver.find_element_by_id('pdfbox')\n",
    "l.send_keys(\"test\")\n",
    "m = driver.find_element_by_id('createPdf')\n",
    "m.click()\n",
    "n = driver.find_element_by_id('pdf-link-to-download')\n",
    "n.click()\n",
    "#driver quit\n",
    "driver.quit()"
   ]
  },
  {
   "cell_type": "code",
   "execution_count": 65,
   "metadata": {},
   "outputs": [
    {
     "name": "stderr",
     "output_type": "stream",
     "text": [
      "<ipython-input-65-a41d336eff95>:10: DeprecationWarning: use options instead of chrome_options\n",
      "  driver = webdriver.Chrome(executable_path = Chrome_path, chrome_options=options)\n"
     ]
    }
   ],
   "source": [
    "download_dir = \"E:/anaji Python/Projects/WebScrapping\"\n",
    "options = webdriver.ChromeOptions()\n",
    "options.add_argument('--kiosk-printing')\n",
    "\n",
    "profile = {\"plugins.plugins_list\": [{\"enabled\": False, \"name\": \"Chrome PDF Viewer\"}], \n",
    "           \"download.default_directory\": download_dir,\n",
    "          \"download.extensions_to_open\": \"applications/pdf\"}\n",
    "options.add_experimental_option(\"prefs\", profile)\n",
    "\n",
    "driver = webdriver.Chrome(executable_path = Chrome_path, chrome_options=options)\n",
    "driver.get(\"https://google.com\")\n",
    "driver.execute_script('window.print();')"
   ]
  },
  {
   "cell_type": "code",
   "execution_count": 62,
   "metadata": {},
   "outputs": [],
   "source": [
    "keyboard.press(['s'])\n",
    "time.sleep(1)\n",
    "keyboard.press('enter')"
   ]
  },
  {
   "cell_type": "code",
   "execution_count": 50,
   "metadata": {},
   "outputs": [],
   "source": [
    "import time\n",
    "from selenium import webdriver\n",
    "import os\n",
    "Chrome_path = \"C:/Tools/chromedriver.exe\"\n",
    "class printing_browser(object):\n",
    "    def __init__(self):\n",
    "        self.driver = webdriver.Chrome(executable_path = Chrome_path)\n",
    "        time.sleep(5)\n",
    "\n",
    "    def get_page_and_print(self, page):\n",
    "        self.driver.get(page)\n",
    "        time.sleep(5)\n",
    "        self.driver.execute_script(\"window.print();\")\n",
    "\n",
    "if __name__ == \"__main__\":\n",
    "    browser_that_prints = printing_browser()\n",
    "    browser_that_prints.get_page_and_print('https://www.moh.gov.bh/HealthInfo/DrugDetail/119?Desc=1?lang=en')"
   ]
  },
  {
   "cell_type": "code",
   "execution_count": 52,
   "metadata": {},
   "outputs": [],
   "source": [
    "from selenium import webdriver\n",
    "import json\n",
    "\n",
    "chrome_options = webdriver.ChromeOptions()\n",
    "settings = {\n",
    "       \"recentDestinations\": [{\n",
    "            \"id\": \"Save as PDF\",\n",
    "            \"origin\": \"local\",\n",
    "            \"account\": \"\",\n",
    "        }],\n",
    "        \"selectedDestinationId\": \"Save as PDF\",\n",
    "        \"version\": 2\n",
    "    }\n",
    "prefs = {'printing.print_preview_sticky_settings.appState': json.dumps(settings)}\n",
    "chrome_options.add_experimental_option('prefs', prefs)\n",
    "chrome_options.add_argument('--kiosk-printing')\n",
    "\n",
    "driver = webdriver.Chrome(executable_path = Chrome_path)\n",
    "driver.get(\"https://google.com\")\n",
    "# driver.execute_script(\"var doc = new jsPDF(); function saveDiv(divId, title) { doc.fromHTML(`<html><head><title>${title}</title></head><body>` + document.getElementById(divId).innerHTML + `</body></html>`); doc.save('div.pdf');}\")\n",
    "# time.sleep(10)\n",
    "driver.execute_script('window.print();')\n",
    "# ActionChains(driver).send_keys(Keys.ENTER)\n",
    "driver.quit()"
   ]
  },
  {
   "cell_type": "code",
   "execution_count": 34,
   "metadata": {},
   "outputs": [],
   "source": [
    "import urllib.request\n",
    "\n",
    "response = urllib.request.urlopen(\"https://www.youtube.com/watch?v=zP8QNkQgtbg\")    \n",
    "file = open(\"FILENAME.pdf\", 'wb')\n",
    "file.write(response.read())\n",
    "file.close()"
   ]
  },
  {
   "cell_type": "code",
   "execution_count": 18,
   "metadata": {},
   "outputs": [],
   "source": [
    "import ait"
   ]
  },
  {
   "cell_type": "code",
   "execution_count": 31,
   "metadata": {},
   "outputs": [
    {
     "ename": "SyntaxError",
     "evalue": "invalid syntax (<ipython-input-31-387455922f1c>, line 10)",
     "output_type": "error",
     "traceback": [
      "\u001b[1;36m  File \u001b[1;32m\"<ipython-input-31-387455922f1c>\"\u001b[1;36m, line \u001b[1;32m10\u001b[0m\n\u001b[1;33m    ((JavascriptExecutor)driver).executeScript(\"window.print()\");\u001b[0m\n\u001b[1;37m                         ^\u001b[0m\n\u001b[1;31mSyntaxError\u001b[0m\u001b[1;31m:\u001b[0m invalid syntax\n"
     ]
    }
   ],
   "source": [
    "from selenium import webdriver\n",
    "# import autoit\n",
    "import time\n",
    "driver = webdriver.Chrome(executable_path = Chrome_path)\n",
    "URL = \"http://www.google.com\"\n",
    "driver.get(URL)\n",
    "driver.maximize_window()\n",
    "time.sleep(10)\n",
    "ActionChains(driver).key_down(Keys.CONTROL).send_keys('p').key_up(Keys.CONTROL).perform()\n",
    "# ((JavascriptExecutor)driver).executeScript(\"window.print()\");\n",
    "ActionChains(driver).send_keys(Keys.ENTER)\n",
    "time.sleep(10) # Pause to allow you to inspect the browser.\n",
    "# driver.quit()"
   ]
  },
  {
   "cell_type": "code",
   "execution_count": 15,
   "metadata": {},
   "outputs": [
    {
     "ename": "ImportError",
     "evalue": "cannot import name 'robot' from 'selenium' (D:\\Anaconda3\\lib\\site-packages\\selenium\\__init__.py)",
     "output_type": "error",
     "traceback": [
      "\u001b[1;31m---------------------------------------------------------------------------\u001b[0m",
      "\u001b[1;31mImportError\u001b[0m                               Traceback (most recent call last)",
      "\u001b[1;32m<ipython-input-15-4c3ab6feac03>\u001b[0m in \u001b[0;36m<module>\u001b[1;34m\u001b[0m\n\u001b[1;32m----> 1\u001b[1;33m \u001b[1;32mfrom\u001b[0m \u001b[0mselenium\u001b[0m \u001b[1;32mimport\u001b[0m \u001b[0mwebdriver\u001b[0m\u001b[1;33m,\u001b[0m \u001b[0mrobot\u001b[0m\u001b[1;33m\u001b[0m\u001b[1;33m\u001b[0m\u001b[0m\n\u001b[0m\u001b[0;32m      2\u001b[0m \u001b[1;32mfrom\u001b[0m \u001b[0mselenium\u001b[0m\u001b[1;33m.\u001b[0m\u001b[0mwebdriver\u001b[0m\u001b[1;33m.\u001b[0m\u001b[0mcommon\u001b[0m\u001b[1;33m.\u001b[0m\u001b[0mkeys\u001b[0m \u001b[1;32mimport\u001b[0m \u001b[0mKeys\u001b[0m\u001b[1;33m\u001b[0m\u001b[1;33m\u001b[0m\u001b[0m\n\u001b[0;32m      3\u001b[0m \u001b[1;32mfrom\u001b[0m \u001b[0mselenium\u001b[0m\u001b[1;33m.\u001b[0m\u001b[0mwebdriver\u001b[0m\u001b[1;33m.\u001b[0m\u001b[0mcommon\u001b[0m\u001b[1;33m.\u001b[0m\u001b[0maction_chains\u001b[0m \u001b[1;32mimport\u001b[0m \u001b[0mActionChains\u001b[0m\u001b[1;33m\u001b[0m\u001b[1;33m\u001b[0m\u001b[0m\n\u001b[0;32m      4\u001b[0m \u001b[1;32mimport\u001b[0m \u001b[0mtime\u001b[0m\u001b[1;33m\u001b[0m\u001b[1;33m\u001b[0m\u001b[0m\n\u001b[0;32m      5\u001b[0m \u001b[1;31m# DRIVER = 'chromedriver'\u001b[0m\u001b[1;33m\u001b[0m\u001b[1;33m\u001b[0m\u001b[1;33m\u001b[0m\u001b[0m\n",
      "\u001b[1;31mImportError\u001b[0m: cannot import name 'robot' from 'selenium' (D:\\Anaconda3\\lib\\site-packages\\selenium\\__init__.py)"
     ]
    }
   ],
   "source": [
    "from selenium import webdriver\n",
    "from selenium.webdriver.common.keys import Keys\n",
    "from selenium.webdriver.common.action_chains import ActionChains\n",
    "import time\n",
    "# DRIVER = 'chromedriver'\n",
    "# driver = webdriver.Chrome(DRIVER)\n",
    "driver = webdriver.Chrome(executable_path = Chrome_path)\n",
    "URL = \"http://www.google.com\"\n",
    "driver.get(URL)\n",
    "actions = ActionChains(driver)\n",
    "time.sleep(5) #Give the page time to load\n",
    "\n",
    "actions.key_down(Keys.CONTROL)\n",
    "actions.send_keys('p')\n",
    "actions.key_up(Keys.CONTROL)\n",
    "actions.perform()\n",
    "# webdriver.ActionChains(driver).key_down(Keys.CONTROL).send_keys('P').key_up(Keys.CONTROL).perform()\n",
    "robot.keyPress(KeyEvent.VK_CONTROL)\n",
    "robot.keyPress(KeyEvent.VK_P)\n",
    "# CTRL+P is now pressed\n",
    "robot.keyRelease(KeyEvent.VK_P)\n",
    "robot.keyRelease(KeyEvent.VK_CONTROL)\n",
    "time.sleep(5) #Sleep to see if the print dialog came up\n",
    "driver.quit()"
   ]
  },
  {
   "cell_type": "code",
   "execution_count": 9,
   "metadata": {
    "scrolled": true
   },
   "outputs": [
    {
     "ename": "WebDriverException",
     "evalue": "Message: chrome not reachable\n  (Session info: chrome=94.0.4606.54)\n",
     "output_type": "error",
     "traceback": [
      "\u001b[1;31m---------------------------------------------------------------------------\u001b[0m",
      "\u001b[1;31mWebDriverException\u001b[0m                        Traceback (most recent call last)",
      "\u001b[1;32m<ipython-input-9-368baab4d143>\u001b[0m in \u001b[0;36m<module>\u001b[1;34m\u001b[0m\n\u001b[1;32m----> 1\u001b[1;33m \u001b[0mdriver\u001b[0m\u001b[1;33m.\u001b[0m\u001b[0mget\u001b[0m\u001b[1;33m(\u001b[0m\u001b[1;34m\"https://www.google.co.in/\"\u001b[0m\u001b[1;33m)\u001b[0m\u001b[1;33m\u001b[0m\u001b[1;33m\u001b[0m\u001b[0m\n\u001b[0m",
      "\u001b[1;32mD:\\Anaconda3\\lib\\site-packages\\selenium\\webdriver\\remote\\webdriver.py\u001b[0m in \u001b[0;36mget\u001b[1;34m(self, url)\u001b[0m\n\u001b[0;32m    331\u001b[0m         \u001b[0mLoads\u001b[0m \u001b[0ma\u001b[0m \u001b[0mweb\u001b[0m \u001b[0mpage\u001b[0m \u001b[1;32min\u001b[0m \u001b[0mthe\u001b[0m \u001b[0mcurrent\u001b[0m \u001b[0mbrowser\u001b[0m \u001b[0msession\u001b[0m\u001b[1;33m.\u001b[0m\u001b[1;33m\u001b[0m\u001b[1;33m\u001b[0m\u001b[0m\n\u001b[0;32m    332\u001b[0m         \"\"\"\n\u001b[1;32m--> 333\u001b[1;33m         \u001b[0mself\u001b[0m\u001b[1;33m.\u001b[0m\u001b[0mexecute\u001b[0m\u001b[1;33m(\u001b[0m\u001b[0mCommand\u001b[0m\u001b[1;33m.\u001b[0m\u001b[0mGET\u001b[0m\u001b[1;33m,\u001b[0m \u001b[1;33m{\u001b[0m\u001b[1;34m'url'\u001b[0m\u001b[1;33m:\u001b[0m \u001b[0murl\u001b[0m\u001b[1;33m}\u001b[0m\u001b[1;33m)\u001b[0m\u001b[1;33m\u001b[0m\u001b[1;33m\u001b[0m\u001b[0m\n\u001b[0m\u001b[0;32m    334\u001b[0m \u001b[1;33m\u001b[0m\u001b[0m\n\u001b[0;32m    335\u001b[0m     \u001b[1;33m@\u001b[0m\u001b[0mproperty\u001b[0m\u001b[1;33m\u001b[0m\u001b[1;33m\u001b[0m\u001b[0m\n",
      "\u001b[1;32mD:\\Anaconda3\\lib\\site-packages\\selenium\\webdriver\\remote\\webdriver.py\u001b[0m in \u001b[0;36mexecute\u001b[1;34m(self, driver_command, params)\u001b[0m\n\u001b[0;32m    319\u001b[0m         \u001b[0mresponse\u001b[0m \u001b[1;33m=\u001b[0m \u001b[0mself\u001b[0m\u001b[1;33m.\u001b[0m\u001b[0mcommand_executor\u001b[0m\u001b[1;33m.\u001b[0m\u001b[0mexecute\u001b[0m\u001b[1;33m(\u001b[0m\u001b[0mdriver_command\u001b[0m\u001b[1;33m,\u001b[0m \u001b[0mparams\u001b[0m\u001b[1;33m)\u001b[0m\u001b[1;33m\u001b[0m\u001b[1;33m\u001b[0m\u001b[0m\n\u001b[0;32m    320\u001b[0m         \u001b[1;32mif\u001b[0m \u001b[0mresponse\u001b[0m\u001b[1;33m:\u001b[0m\u001b[1;33m\u001b[0m\u001b[1;33m\u001b[0m\u001b[0m\n\u001b[1;32m--> 321\u001b[1;33m             \u001b[0mself\u001b[0m\u001b[1;33m.\u001b[0m\u001b[0merror_handler\u001b[0m\u001b[1;33m.\u001b[0m\u001b[0mcheck_response\u001b[0m\u001b[1;33m(\u001b[0m\u001b[0mresponse\u001b[0m\u001b[1;33m)\u001b[0m\u001b[1;33m\u001b[0m\u001b[1;33m\u001b[0m\u001b[0m\n\u001b[0m\u001b[0;32m    322\u001b[0m             response['value'] = self._unwrap_value(\n\u001b[0;32m    323\u001b[0m                 response.get('value', None))\n",
      "\u001b[1;32mD:\\Anaconda3\\lib\\site-packages\\selenium\\webdriver\\remote\\errorhandler.py\u001b[0m in \u001b[0;36mcheck_response\u001b[1;34m(self, response)\u001b[0m\n\u001b[0;32m    240\u001b[0m                 \u001b[0malert_text\u001b[0m \u001b[1;33m=\u001b[0m \u001b[0mvalue\u001b[0m\u001b[1;33m[\u001b[0m\u001b[1;34m'alert'\u001b[0m\u001b[1;33m]\u001b[0m\u001b[1;33m.\u001b[0m\u001b[0mget\u001b[0m\u001b[1;33m(\u001b[0m\u001b[1;34m'text'\u001b[0m\u001b[1;33m)\u001b[0m\u001b[1;33m\u001b[0m\u001b[1;33m\u001b[0m\u001b[0m\n\u001b[0;32m    241\u001b[0m             \u001b[1;32mraise\u001b[0m \u001b[0mexception_class\u001b[0m\u001b[1;33m(\u001b[0m\u001b[0mmessage\u001b[0m\u001b[1;33m,\u001b[0m \u001b[0mscreen\u001b[0m\u001b[1;33m,\u001b[0m \u001b[0mstacktrace\u001b[0m\u001b[1;33m,\u001b[0m \u001b[0malert_text\u001b[0m\u001b[1;33m)\u001b[0m\u001b[1;33m\u001b[0m\u001b[1;33m\u001b[0m\u001b[0m\n\u001b[1;32m--> 242\u001b[1;33m         \u001b[1;32mraise\u001b[0m \u001b[0mexception_class\u001b[0m\u001b[1;33m(\u001b[0m\u001b[0mmessage\u001b[0m\u001b[1;33m,\u001b[0m \u001b[0mscreen\u001b[0m\u001b[1;33m,\u001b[0m \u001b[0mstacktrace\u001b[0m\u001b[1;33m)\u001b[0m\u001b[1;33m\u001b[0m\u001b[1;33m\u001b[0m\u001b[0m\n\u001b[0m\u001b[0;32m    243\u001b[0m \u001b[1;33m\u001b[0m\u001b[0m\n\u001b[0;32m    244\u001b[0m     \u001b[1;32mdef\u001b[0m \u001b[0m_value_or_default\u001b[0m\u001b[1;33m(\u001b[0m\u001b[0mself\u001b[0m\u001b[1;33m,\u001b[0m \u001b[0mobj\u001b[0m\u001b[1;33m,\u001b[0m \u001b[0mkey\u001b[0m\u001b[1;33m,\u001b[0m \u001b[0mdefault\u001b[0m\u001b[1;33m)\u001b[0m\u001b[1;33m:\u001b[0m\u001b[1;33m\u001b[0m\u001b[1;33m\u001b[0m\u001b[0m\n",
      "\u001b[1;31mWebDriverException\u001b[0m: Message: chrome not reachable\n  (Session info: chrome=94.0.4606.54)\n"
     ]
    }
   ],
   "source": [
    "driver.get(\"https://www.google.co.in/\")"
   ]
  },
  {
   "cell_type": "code",
   "execution_count": 8,
   "metadata": {},
   "outputs": [
    {
     "ename": "WebDriverException",
     "evalue": "Message: chrome not reachable\n  (Session info: chrome=94.0.4606.54)\n",
     "output_type": "error",
     "traceback": [
      "\u001b[1;31m---------------------------------------------------------------------------\u001b[0m",
      "\u001b[1;31mWebDriverException\u001b[0m                        Traceback (most recent call last)",
      "\u001b[1;32m<ipython-input-8-b58ae2a36e3a>\u001b[0m in \u001b[0;36m<module>\u001b[1;34m\u001b[0m\n\u001b[0;32m      2\u001b[0m \u001b[1;32mfrom\u001b[0m \u001b[0mselenium\u001b[0m\u001b[1;33m.\u001b[0m\u001b[0mwebdriver\u001b[0m\u001b[1;33m.\u001b[0m\u001b[0mcommon\u001b[0m\u001b[1;33m.\u001b[0m\u001b[0mkeys\u001b[0m \u001b[1;32mimport\u001b[0m \u001b[0mKeys\u001b[0m\u001b[1;33m\u001b[0m\u001b[1;33m\u001b[0m\u001b[0m\n\u001b[0;32m      3\u001b[0m \u001b[1;33m\u001b[0m\u001b[0m\n\u001b[1;32m----> 4\u001b[1;33m \u001b[0mdriver\u001b[0m\u001b[1;33m.\u001b[0m\u001b[0mget\u001b[0m\u001b[1;33m(\u001b[0m\u001b[1;34m\"https://www.google.co.in/\"\u001b[0m\u001b[1;33m)\u001b[0m\u001b[1;33m\u001b[0m\u001b[1;33m\u001b[0m\u001b[0m\n\u001b[0m\u001b[0;32m      5\u001b[0m \u001b[1;33m\u001b[0m\u001b[0m\n\u001b[0;32m      6\u001b[0m \u001b[0mactions\u001b[0m \u001b[1;33m=\u001b[0m \u001b[0mActionChains\u001b[0m\u001b[1;33m(\u001b[0m\u001b[0mdriver\u001b[0m\u001b[1;33m)\u001b[0m\u001b[1;33m\u001b[0m\u001b[1;33m\u001b[0m\u001b[0m\n",
      "\u001b[1;32mD:\\Anaconda3\\lib\\site-packages\\selenium\\webdriver\\remote\\webdriver.py\u001b[0m in \u001b[0;36mget\u001b[1;34m(self, url)\u001b[0m\n\u001b[0;32m    331\u001b[0m         \u001b[0mLoads\u001b[0m \u001b[0ma\u001b[0m \u001b[0mweb\u001b[0m \u001b[0mpage\u001b[0m \u001b[1;32min\u001b[0m \u001b[0mthe\u001b[0m \u001b[0mcurrent\u001b[0m \u001b[0mbrowser\u001b[0m \u001b[0msession\u001b[0m\u001b[1;33m.\u001b[0m\u001b[1;33m\u001b[0m\u001b[1;33m\u001b[0m\u001b[0m\n\u001b[0;32m    332\u001b[0m         \"\"\"\n\u001b[1;32m--> 333\u001b[1;33m         \u001b[0mself\u001b[0m\u001b[1;33m.\u001b[0m\u001b[0mexecute\u001b[0m\u001b[1;33m(\u001b[0m\u001b[0mCommand\u001b[0m\u001b[1;33m.\u001b[0m\u001b[0mGET\u001b[0m\u001b[1;33m,\u001b[0m \u001b[1;33m{\u001b[0m\u001b[1;34m'url'\u001b[0m\u001b[1;33m:\u001b[0m \u001b[0murl\u001b[0m\u001b[1;33m}\u001b[0m\u001b[1;33m)\u001b[0m\u001b[1;33m\u001b[0m\u001b[1;33m\u001b[0m\u001b[0m\n\u001b[0m\u001b[0;32m    334\u001b[0m \u001b[1;33m\u001b[0m\u001b[0m\n\u001b[0;32m    335\u001b[0m     \u001b[1;33m@\u001b[0m\u001b[0mproperty\u001b[0m\u001b[1;33m\u001b[0m\u001b[1;33m\u001b[0m\u001b[0m\n",
      "\u001b[1;32mD:\\Anaconda3\\lib\\site-packages\\selenium\\webdriver\\remote\\webdriver.py\u001b[0m in \u001b[0;36mexecute\u001b[1;34m(self, driver_command, params)\u001b[0m\n\u001b[0;32m    319\u001b[0m         \u001b[0mresponse\u001b[0m \u001b[1;33m=\u001b[0m \u001b[0mself\u001b[0m\u001b[1;33m.\u001b[0m\u001b[0mcommand_executor\u001b[0m\u001b[1;33m.\u001b[0m\u001b[0mexecute\u001b[0m\u001b[1;33m(\u001b[0m\u001b[0mdriver_command\u001b[0m\u001b[1;33m,\u001b[0m \u001b[0mparams\u001b[0m\u001b[1;33m)\u001b[0m\u001b[1;33m\u001b[0m\u001b[1;33m\u001b[0m\u001b[0m\n\u001b[0;32m    320\u001b[0m         \u001b[1;32mif\u001b[0m \u001b[0mresponse\u001b[0m\u001b[1;33m:\u001b[0m\u001b[1;33m\u001b[0m\u001b[1;33m\u001b[0m\u001b[0m\n\u001b[1;32m--> 321\u001b[1;33m             \u001b[0mself\u001b[0m\u001b[1;33m.\u001b[0m\u001b[0merror_handler\u001b[0m\u001b[1;33m.\u001b[0m\u001b[0mcheck_response\u001b[0m\u001b[1;33m(\u001b[0m\u001b[0mresponse\u001b[0m\u001b[1;33m)\u001b[0m\u001b[1;33m\u001b[0m\u001b[1;33m\u001b[0m\u001b[0m\n\u001b[0m\u001b[0;32m    322\u001b[0m             response['value'] = self._unwrap_value(\n\u001b[0;32m    323\u001b[0m                 response.get('value', None))\n",
      "\u001b[1;32mD:\\Anaconda3\\lib\\site-packages\\selenium\\webdriver\\remote\\errorhandler.py\u001b[0m in \u001b[0;36mcheck_response\u001b[1;34m(self, response)\u001b[0m\n\u001b[0;32m    240\u001b[0m                 \u001b[0malert_text\u001b[0m \u001b[1;33m=\u001b[0m \u001b[0mvalue\u001b[0m\u001b[1;33m[\u001b[0m\u001b[1;34m'alert'\u001b[0m\u001b[1;33m]\u001b[0m\u001b[1;33m.\u001b[0m\u001b[0mget\u001b[0m\u001b[1;33m(\u001b[0m\u001b[1;34m'text'\u001b[0m\u001b[1;33m)\u001b[0m\u001b[1;33m\u001b[0m\u001b[1;33m\u001b[0m\u001b[0m\n\u001b[0;32m    241\u001b[0m             \u001b[1;32mraise\u001b[0m \u001b[0mexception_class\u001b[0m\u001b[1;33m(\u001b[0m\u001b[0mmessage\u001b[0m\u001b[1;33m,\u001b[0m \u001b[0mscreen\u001b[0m\u001b[1;33m,\u001b[0m \u001b[0mstacktrace\u001b[0m\u001b[1;33m,\u001b[0m \u001b[0malert_text\u001b[0m\u001b[1;33m)\u001b[0m\u001b[1;33m\u001b[0m\u001b[1;33m\u001b[0m\u001b[0m\n\u001b[1;32m--> 242\u001b[1;33m         \u001b[1;32mraise\u001b[0m \u001b[0mexception_class\u001b[0m\u001b[1;33m(\u001b[0m\u001b[0mmessage\u001b[0m\u001b[1;33m,\u001b[0m \u001b[0mscreen\u001b[0m\u001b[1;33m,\u001b[0m \u001b[0mstacktrace\u001b[0m\u001b[1;33m)\u001b[0m\u001b[1;33m\u001b[0m\u001b[1;33m\u001b[0m\u001b[0m\n\u001b[0m\u001b[0;32m    243\u001b[0m \u001b[1;33m\u001b[0m\u001b[0m\n\u001b[0;32m    244\u001b[0m     \u001b[1;32mdef\u001b[0m \u001b[0m_value_or_default\u001b[0m\u001b[1;33m(\u001b[0m\u001b[0mself\u001b[0m\u001b[1;33m,\u001b[0m \u001b[0mobj\u001b[0m\u001b[1;33m,\u001b[0m \u001b[0mkey\u001b[0m\u001b[1;33m,\u001b[0m \u001b[0mdefault\u001b[0m\u001b[1;33m)\u001b[0m\u001b[1;33m:\u001b[0m\u001b[1;33m\u001b[0m\u001b[1;33m\u001b[0m\u001b[0m\n",
      "\u001b[1;31mWebDriverException\u001b[0m: Message: chrome not reachable\n  (Session info: chrome=94.0.4606.54)\n"
     ]
    }
   ],
   "source": [
    "\n",
    "from selenium.webdriver import ActionChains\n",
    "from selenium.webdriver.common.keys import Keys\n",
    "\n",
    "driver.get(\"https://www.google.co.in/\")\n",
    "\n",
    "actions = ActionChains(driver)\n",
    "actions.move_to_element(driver.find_element_by_tag_name('body'))\n",
    "actions.key_down(Keys.CONTROL).send_keys('p').key_up(Keys.CONTROL)\n",
    "actions.perform()"
   ]
  },
  {
   "cell_type": "code",
   "execution_count": null,
   "metadata": {},
   "outputs": [],
   "source": []
  },
  {
   "cell_type": "code",
   "execution_count": null,
   "metadata": {},
   "outputs": [],
   "source": []
  },
  {
   "cell_type": "code",
   "execution_count": null,
   "metadata": {},
   "outputs": [],
   "source": []
  },
  {
   "cell_type": "code",
   "execution_count": 8,
   "metadata": {},
   "outputs": [
    {
     "name": "stdout",
     "output_type": "stream",
     "text": [
      "301\n"
     ]
    }
   ],
   "source": [
    "driver = webdriver.Chrome(executable_path = Chrome_path)\n",
    "url_link = \"https://www.amazon.in/Samsung-Galaxy-Storage-Additional-Exchange/dp/B089MQ622N/?_encoding=UTF8&pd_rd_w=v8v5Z&pf_rd_p=ebccae33-c8cf-48ef-bb6c-881f21a02fcb&pf_rd_r=XG81Y4VWXXZP6FKJM8CF&pd_rd_r=8f96a59e-cf91-46db-8c9b-a421ec43ec15&pd_rd_wg=KP3ZC&ref_=pd_gw_trq_rep_sims_gw\"\n",
    "driver.get(url_link)\n",
    "# driver.save_screenshot('screenshot.png')\n",
    "review_list = driver.find_elements_by_class_name(\"a-row\")\n",
    "# data = driver.find_elements_by_xpath(\"\"\"/html/body/div[1]/div/main/div[4]/div/div[3]/div/div/section/div[2]/div/div[2]/div/div[1]/div/div[2]\"\"\")\n",
    "# data = driver.find_elements_by_css_selector('div.user-title ml-0_5 ml-md-0_5 size-16 font-weight-medium d-inline')\n",
    "# print(review_list)\n",
    "print(len(review_list))\n"
   ]
  },
  {
   "cell_type": "code",
   "execution_count": 12,
   "metadata": {},
   "outputs": [
    {
     "name": "stdout",
     "output_type": "stream",
     "text": [
      "\n",
      "\n",
      "\n",
      "Without Exchange\n",
      "   5,999.00\n"
     ]
    }
   ],
   "source": [
    "details = []\n",
    "for review in review_list[:5]:\n",
    "    # Getting job info //*[@id=\"customer_review-R29J5P8WG0JR84\"]/div[1]/a/div[2]\n",
    "    review_cust = review.find_elements_by_tag_name('span')[0]\n",
    "    print(review_cust.text)"
   ]
  },
  {
   "cell_type": "code",
   "execution_count": 40,
   "metadata": {},
   "outputs": [],
   "source": [
    "from bs4 import BeautifulSoup\n",
    "soup = BeautifulSoup(source, 'html.parser')"
   ]
  },
  {
   "cell_type": "code",
   "execution_count": 43,
   "metadata": {},
   "outputs": [
    {
     "data": {
      "text/plain": [
       "[]"
      ]
     },
     "execution_count": 43,
     "metadata": {},
     "output_type": "execute_result"
    }
   ],
   "source": [
    "soup.find_all(\"customer_review-R29J5P8WG0JR84\")"
   ]
  },
  {
   "cell_type": "code",
   "execution_count": 42,
   "metadata": {},
   "outputs": [
    {
     "data": {
      "text/plain": [
       "bs4.BeautifulSoup"
      ]
     },
     "execution_count": 42,
     "metadata": {},
     "output_type": "execute_result"
    }
   ],
   "source": [
    "type(soup)"
   ]
  },
  {
   "cell_type": "code",
   "execution_count": 38,
   "metadata": {},
   "outputs": [
    {
     "ename": "StaleElementReferenceException",
     "evalue": "Message: stale element reference: element is not attached to the page document\n  (Session info: chrome=88.0.4324.190)\n",
     "output_type": "error",
     "traceback": [
      "\u001b[1;31m---------------------------------------------------------------------------\u001b[0m",
      "\u001b[1;31mStaleElementReferenceException\u001b[0m            Traceback (most recent call last)",
      "\u001b[1;32m<ipython-input-38-80ba2d5f38e7>\u001b[0m in \u001b[0;36m<module>\u001b[1;34m\u001b[0m\n\u001b[0;32m      2\u001b[0m \u001b[1;32mfor\u001b[0m \u001b[0mreview\u001b[0m \u001b[1;32min\u001b[0m \u001b[0mreview_list\u001b[0m\u001b[1;33m[\u001b[0m\u001b[1;33m:\u001b[0m\u001b[1;36m5\u001b[0m\u001b[1;33m]\u001b[0m\u001b[1;33m:\u001b[0m\u001b[1;33m\u001b[0m\u001b[1;33m\u001b[0m\u001b[0m\n\u001b[0;32m      3\u001b[0m     \u001b[1;31m# Getting job info //*[@id=\"customer_review-R29J5P8WG0JR84\"]/div[1]/a/div[2]\u001b[0m\u001b[1;33m\u001b[0m\u001b[1;33m\u001b[0m\u001b[1;33m\u001b[0m\u001b[0m\n\u001b[1;32m----> 4\u001b[1;33m     \u001b[0mreview_cust\u001b[0m \u001b[1;33m=\u001b[0m \u001b[0mreview\u001b[0m\u001b[1;33m.\u001b[0m\u001b[0mfind_elements_by_xpath\u001b[0m\u001b[1;33m(\u001b[0m\u001b[1;34m'//*[@id=\"customer_review-R29J5P8WG0JR84\"]/div[2]/a[1]'\u001b[0m\u001b[1;33m)\u001b[0m\u001b[1;33m[\u001b[0m\u001b[1;36m0\u001b[0m\u001b[1;33m]\u001b[0m\u001b[1;33m\u001b[0m\u001b[1;33m\u001b[0m\u001b[0m\n\u001b[0m\u001b[0;32m      5\u001b[0m     \u001b[0mprint\u001b[0m\u001b[1;33m(\u001b[0m\u001b[0mreview_cust\u001b[0m\u001b[1;33m.\u001b[0m\u001b[0mtext\u001b[0m\u001b[1;33m)\u001b[0m\u001b[1;33m\u001b[0m\u001b[1;33m\u001b[0m\u001b[0m\n",
      "\u001b[1;32mD:\\Anaconda3\\lib\\site-packages\\selenium\\webdriver\\remote\\webelement.py\u001b[0m in \u001b[0;36mfind_elements_by_xpath\u001b[1;34m(self, xpath)\u001b[0m\n\u001b[0;32m    379\u001b[0m \u001b[1;33m\u001b[0m\u001b[0m\n\u001b[0;32m    380\u001b[0m         \"\"\"\n\u001b[1;32m--> 381\u001b[1;33m         \u001b[1;32mreturn\u001b[0m \u001b[0mself\u001b[0m\u001b[1;33m.\u001b[0m\u001b[0mfind_elements\u001b[0m\u001b[1;33m(\u001b[0m\u001b[0mby\u001b[0m\u001b[1;33m=\u001b[0m\u001b[0mBy\u001b[0m\u001b[1;33m.\u001b[0m\u001b[0mXPATH\u001b[0m\u001b[1;33m,\u001b[0m \u001b[0mvalue\u001b[0m\u001b[1;33m=\u001b[0m\u001b[0mxpath\u001b[0m\u001b[1;33m)\u001b[0m\u001b[1;33m\u001b[0m\u001b[1;33m\u001b[0m\u001b[0m\n\u001b[0m\u001b[0;32m    382\u001b[0m \u001b[1;33m\u001b[0m\u001b[0m\n\u001b[0;32m    383\u001b[0m     \u001b[1;32mdef\u001b[0m \u001b[0mfind_element_by_class_name\u001b[0m\u001b[1;33m(\u001b[0m\u001b[0mself\u001b[0m\u001b[1;33m,\u001b[0m \u001b[0mname\u001b[0m\u001b[1;33m)\u001b[0m\u001b[1;33m:\u001b[0m\u001b[1;33m\u001b[0m\u001b[1;33m\u001b[0m\u001b[0m\n",
      "\u001b[1;32mD:\\Anaconda3\\lib\\site-packages\\selenium\\webdriver\\remote\\webelement.py\u001b[0m in \u001b[0;36mfind_elements\u001b[1;34m(self, by, value)\u001b[0m\n\u001b[0;32m    682\u001b[0m                 \u001b[0mvalue\u001b[0m \u001b[1;33m=\u001b[0m \u001b[1;34m'[name=\"%s\"]'\u001b[0m \u001b[1;33m%\u001b[0m \u001b[0mvalue\u001b[0m\u001b[1;33m\u001b[0m\u001b[1;33m\u001b[0m\u001b[0m\n\u001b[0;32m    683\u001b[0m \u001b[1;33m\u001b[0m\u001b[0m\n\u001b[1;32m--> 684\u001b[1;33m         return self._execute(Command.FIND_CHILD_ELEMENTS,\n\u001b[0m\u001b[0;32m    685\u001b[0m                              {\"using\": by, \"value\": value})['value']\n\u001b[0;32m    686\u001b[0m \u001b[1;33m\u001b[0m\u001b[0m\n",
      "\u001b[1;32mD:\\Anaconda3\\lib\\site-packages\\selenium\\webdriver\\remote\\webelement.py\u001b[0m in \u001b[0;36m_execute\u001b[1;34m(self, command, params)\u001b[0m\n\u001b[0;32m    631\u001b[0m             \u001b[0mparams\u001b[0m \u001b[1;33m=\u001b[0m \u001b[1;33m{\u001b[0m\u001b[1;33m}\u001b[0m\u001b[1;33m\u001b[0m\u001b[1;33m\u001b[0m\u001b[0m\n\u001b[0;32m    632\u001b[0m         \u001b[0mparams\u001b[0m\u001b[1;33m[\u001b[0m\u001b[1;34m'id'\u001b[0m\u001b[1;33m]\u001b[0m \u001b[1;33m=\u001b[0m \u001b[0mself\u001b[0m\u001b[1;33m.\u001b[0m\u001b[0m_id\u001b[0m\u001b[1;33m\u001b[0m\u001b[1;33m\u001b[0m\u001b[0m\n\u001b[1;32m--> 633\u001b[1;33m         \u001b[1;32mreturn\u001b[0m \u001b[0mself\u001b[0m\u001b[1;33m.\u001b[0m\u001b[0m_parent\u001b[0m\u001b[1;33m.\u001b[0m\u001b[0mexecute\u001b[0m\u001b[1;33m(\u001b[0m\u001b[0mcommand\u001b[0m\u001b[1;33m,\u001b[0m \u001b[0mparams\u001b[0m\u001b[1;33m)\u001b[0m\u001b[1;33m\u001b[0m\u001b[1;33m\u001b[0m\u001b[0m\n\u001b[0m\u001b[0;32m    634\u001b[0m \u001b[1;33m\u001b[0m\u001b[0m\n\u001b[0;32m    635\u001b[0m     \u001b[1;32mdef\u001b[0m \u001b[0mfind_element\u001b[0m\u001b[1;33m(\u001b[0m\u001b[0mself\u001b[0m\u001b[1;33m,\u001b[0m \u001b[0mby\u001b[0m\u001b[1;33m=\u001b[0m\u001b[0mBy\u001b[0m\u001b[1;33m.\u001b[0m\u001b[0mID\u001b[0m\u001b[1;33m,\u001b[0m \u001b[0mvalue\u001b[0m\u001b[1;33m=\u001b[0m\u001b[1;32mNone\u001b[0m\u001b[1;33m)\u001b[0m\u001b[1;33m:\u001b[0m\u001b[1;33m\u001b[0m\u001b[1;33m\u001b[0m\u001b[0m\n",
      "\u001b[1;32mD:\\Anaconda3\\lib\\site-packages\\selenium\\webdriver\\remote\\webdriver.py\u001b[0m in \u001b[0;36mexecute\u001b[1;34m(self, driver_command, params)\u001b[0m\n\u001b[0;32m    319\u001b[0m         \u001b[0mresponse\u001b[0m \u001b[1;33m=\u001b[0m \u001b[0mself\u001b[0m\u001b[1;33m.\u001b[0m\u001b[0mcommand_executor\u001b[0m\u001b[1;33m.\u001b[0m\u001b[0mexecute\u001b[0m\u001b[1;33m(\u001b[0m\u001b[0mdriver_command\u001b[0m\u001b[1;33m,\u001b[0m \u001b[0mparams\u001b[0m\u001b[1;33m)\u001b[0m\u001b[1;33m\u001b[0m\u001b[1;33m\u001b[0m\u001b[0m\n\u001b[0;32m    320\u001b[0m         \u001b[1;32mif\u001b[0m \u001b[0mresponse\u001b[0m\u001b[1;33m:\u001b[0m\u001b[1;33m\u001b[0m\u001b[1;33m\u001b[0m\u001b[0m\n\u001b[1;32m--> 321\u001b[1;33m             \u001b[0mself\u001b[0m\u001b[1;33m.\u001b[0m\u001b[0merror_handler\u001b[0m\u001b[1;33m.\u001b[0m\u001b[0mcheck_response\u001b[0m\u001b[1;33m(\u001b[0m\u001b[0mresponse\u001b[0m\u001b[1;33m)\u001b[0m\u001b[1;33m\u001b[0m\u001b[1;33m\u001b[0m\u001b[0m\n\u001b[0m\u001b[0;32m    322\u001b[0m             response['value'] = self._unwrap_value(\n\u001b[0;32m    323\u001b[0m                 response.get('value', None))\n",
      "\u001b[1;32mD:\\Anaconda3\\lib\\site-packages\\selenium\\webdriver\\remote\\errorhandler.py\u001b[0m in \u001b[0;36mcheck_response\u001b[1;34m(self, response)\u001b[0m\n\u001b[0;32m    240\u001b[0m                 \u001b[0malert_text\u001b[0m \u001b[1;33m=\u001b[0m \u001b[0mvalue\u001b[0m\u001b[1;33m[\u001b[0m\u001b[1;34m'alert'\u001b[0m\u001b[1;33m]\u001b[0m\u001b[1;33m.\u001b[0m\u001b[0mget\u001b[0m\u001b[1;33m(\u001b[0m\u001b[1;34m'text'\u001b[0m\u001b[1;33m)\u001b[0m\u001b[1;33m\u001b[0m\u001b[1;33m\u001b[0m\u001b[0m\n\u001b[0;32m    241\u001b[0m             \u001b[1;32mraise\u001b[0m \u001b[0mexception_class\u001b[0m\u001b[1;33m(\u001b[0m\u001b[0mmessage\u001b[0m\u001b[1;33m,\u001b[0m \u001b[0mscreen\u001b[0m\u001b[1;33m,\u001b[0m \u001b[0mstacktrace\u001b[0m\u001b[1;33m,\u001b[0m \u001b[0malert_text\u001b[0m\u001b[1;33m)\u001b[0m\u001b[1;33m\u001b[0m\u001b[1;33m\u001b[0m\u001b[0m\n\u001b[1;32m--> 242\u001b[1;33m         \u001b[1;32mraise\u001b[0m \u001b[0mexception_class\u001b[0m\u001b[1;33m(\u001b[0m\u001b[0mmessage\u001b[0m\u001b[1;33m,\u001b[0m \u001b[0mscreen\u001b[0m\u001b[1;33m,\u001b[0m \u001b[0mstacktrace\u001b[0m\u001b[1;33m)\u001b[0m\u001b[1;33m\u001b[0m\u001b[1;33m\u001b[0m\u001b[0m\n\u001b[0m\u001b[0;32m    243\u001b[0m \u001b[1;33m\u001b[0m\u001b[0m\n\u001b[0;32m    244\u001b[0m     \u001b[1;32mdef\u001b[0m \u001b[0m_value_or_default\u001b[0m\u001b[1;33m(\u001b[0m\u001b[0mself\u001b[0m\u001b[1;33m,\u001b[0m \u001b[0mobj\u001b[0m\u001b[1;33m,\u001b[0m \u001b[0mkey\u001b[0m\u001b[1;33m,\u001b[0m \u001b[0mdefault\u001b[0m\u001b[1;33m)\u001b[0m\u001b[1;33m:\u001b[0m\u001b[1;33m\u001b[0m\u001b[1;33m\u001b[0m\u001b[0m\n",
      "\u001b[1;31mStaleElementReferenceException\u001b[0m: Message: stale element reference: element is not attached to the page document\n  (Session info: chrome=88.0.4324.190)\n"
     ]
    }
   ],
   "source": [
    "details = []\n",
    "for review in review_list[:5]:\n",
    "    # Getting job info //*[@id=\"customer_review-R29J5P8WG0JR84\"]/div[1]/a/div[2]\n",
    "    review_cust = review.find_elements_by_xpath('//*[@id=\"customer_review-R29J5P8WG0JR84\"]/div[2]/a[1]')[0]\n",
    "    print(review_cust.text)"
   ]
  },
  {
   "cell_type": "code",
   "execution_count": 19,
   "metadata": {},
   "outputs": [],
   "source": [
    "source = driver.page_source"
   ]
  },
  {
   "cell_type": "code",
   "execution_count": 20,
   "metadata": {},
   "outputs": [
    {
     "data": {
      "text/plain": [
       "str"
      ]
     },
     "execution_count": 20,
     "metadata": {},
     "output_type": "execute_result"
    }
   ],
   "source": [
    "type(source)"
   ]
  },
  {
   "cell_type": "code",
   "execution_count": 21,
   "metadata": {},
   "outputs": [
    {
     "name": "stdout",
     "output_type": "stream",
     "text": [
      "Samsung Galaxy M01 Core (Black, 2GB RAM, 32GB Storage) with No Cost EMI/Additional Exchange Offers: Amazon.in: Electronics\n",
      "['CDwindow-BBDB33550E94C5917057D93C75568C33']\n",
      "https://www.amazon.in/Samsung-Galaxy-Storage-Additional-Exchange/dp/B089MQ622N/?_encoding=UTF8&pd_rd_w=v8v5Z&pf_rd_p=ebccae33-c8cf-48ef-bb6c-881f21a02fcb&pf_rd_r=XG81Y4VWXXZP6FKJM8CF&pd_rd_r=8f96a59e-cf91-46db-8c9b-a421ec43ec15&pd_rd_wg=KP3ZC&ref_=pd_gw_trq_rep_sims_gw\n"
     ]
    }
   ],
   "source": [
    "print(driver.title)\n",
    "print(driver.window_handles)\n",
    "# print(driver.page_source)\n",
    "print(driver.current_url)\n",
    "driver.refresh()"
   ]
  },
  {
   "cell_type": "code",
   "execution_count": null,
   "metadata": {},
   "outputs": [],
   "source": []
  }
 ],
 "metadata": {
  "kernelspec": {
   "display_name": "Python 3",
   "language": "python",
   "name": "python3"
  },
  "language_info": {
   "codemirror_mode": {
    "name": "ipython",
    "version": 3
   },
   "file_extension": ".py",
   "mimetype": "text/x-python",
   "name": "python",
   "nbconvert_exporter": "python",
   "pygments_lexer": "ipython3",
   "version": "3.8.5"
  }
 },
 "nbformat": 4,
 "nbformat_minor": 4
}
